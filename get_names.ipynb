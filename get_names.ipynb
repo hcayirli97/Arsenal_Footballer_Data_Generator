{
 "cells": [
  {
   "cell_type": "code",
   "execution_count": 1,
   "id": "6bff1090-3c58-4f54-b6eb-648e4ee638ae",
   "metadata": {},
   "outputs": [],
   "source": [
    "from bs4 import BeautifulSoup\n",
    "import requests\n",
    "import numpy as np"
   ]
  },
  {
   "cell_type": "code",
   "execution_count": 2,
   "id": "ea4a2b1b-82d4-447a-82d7-da93f3ac0b7c",
   "metadata": {},
   "outputs": [],
   "source": [
    "url1 = \"https://www.worldfootball.net/players_list/eng-premier-league-\"\n",
    "url2 = \"/nach-name/\""
   ]
  },
  {
   "cell_type": "code",
   "execution_count": 20,
   "id": "c6bc3e63-4269-4d2d-babd-2f5d8944478a",
   "metadata": {},
   "outputs": [],
   "source": [
    "data = []\n",
    "years= [\"2021-2022\",\"2020-2021\"]\n",
    "for year in years:\n",
    "    for k in range(1,20):\n",
    "        results = requests.get(url1+year+url2 + str(k)+ \"/\")\n",
    "        src = results.content\n",
    "        soup = BeautifulSoup(src)\n",
    "\n",
    "        links = soup.find_all(\"td\", {\"class\": \"dunkel\"})\n",
    "        links2 = soup.find_all(\"td\", {\"class\": \"hell\"})\n",
    "        for i,td_tag in enumerate(links):\n",
    "            a_tag = td_tag.find(\"a\")\n",
    "            try:\n",
    "                if a_tag.string == None: \n",
    "                    continue\n",
    "                data.append(a_tag.string)\n",
    "            except:\n",
    "                pass\n",
    "        for i,td_tag in enumerate(links2):\n",
    "            a_tag = td_tag.find(\"a\")\n",
    "            try:\n",
    "                if a_tag.string == None: \n",
    "                    continue\n",
    "                data.append(a_tag.string)\n",
    "            except:\n",
    "                pass\n"
   ]
  },
  {
   "cell_type": "code",
   "execution_count": 21,
   "id": "2b9cf86d-9f15-48d2-be4d-0ad2fbfefa39",
   "metadata": {},
   "outputs": [],
   "source": [
    "players = []\n",
    "for i, dat in enumerate(data):\n",
    "    if i % 2 == 0:\n",
    "        player = dat\n",
    "    else:\n",
    "        if \"Arsenal\" in dat:\n",
    "            players.append(player)\n",
    "        else: continue"
   ]
  },
  {
   "cell_type": "code",
   "execution_count": 22,
   "id": "53057721",
   "metadata": {},
   "outputs": [],
   "source": [
    "players = np.array(players)"
   ]
  },
  {
   "cell_type": "code",
   "execution_count": 25,
   "id": "f5383926",
   "metadata": {},
   "outputs": [],
   "source": [
    "players = np.unique(players)"
   ]
  },
  {
   "cell_type": "code",
   "execution_count": 28,
   "id": "60059540",
   "metadata": {},
   "outputs": [
    {
     "data": {
      "text/plain": [
       "(47,)"
      ]
     },
     "execution_count": 28,
     "metadata": {},
     "output_type": "execute_result"
    }
   ],
   "source": [
    "players.shape"
   ]
  },
  {
   "cell_type": "code",
   "execution_count": 29,
   "id": "3f95b24d-cb37-4f85-8260-e46b8de0bcae",
   "metadata": {},
   "outputs": [],
   "source": [
    "f = open(\"Arsenal_players.txt\",\"w\",encoding=\"utf-8\")\n",
    "counter = 0\n",
    "for ply in players:\n",
    "    try:\n",
    "        if ply[0] == \" \":\n",
    "            f.write(ply[1:]+\"\\n\")\n",
    "        else:\n",
    "            f.write(ply +\"\\n\")\n",
    "        counter += 1  \n",
    "    except:\n",
    "        print(ply)\n",
    "f.close()"
   ]
  },
  {
   "cell_type": "code",
   "execution_count": null,
   "id": "49f5ac7b-48df-43d2-8bad-beffb0fbed4c",
   "metadata": {},
   "outputs": [],
   "source": []
  }
 ],
 "metadata": {
  "kernelspec": {
   "display_name": "workspace",
   "language": "python",
   "name": "workspace"
  },
  "language_info": {
   "codemirror_mode": {
    "name": "ipython",
    "version": 3
   },
   "file_extension": ".py",
   "mimetype": "text/x-python",
   "name": "python",
   "nbconvert_exporter": "python",
   "pygments_lexer": "ipython3",
   "version": "3.7.13"
  }
 },
 "nbformat": 4,
 "nbformat_minor": 5
}
